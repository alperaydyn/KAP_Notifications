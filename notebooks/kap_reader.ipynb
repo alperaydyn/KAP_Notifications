{
 "cells": [
  {
   "cell_type": "code",
   "execution_count": 30,
   "metadata": {
    "collapsed": true
   },
   "outputs": [
    {
     "name": "stdout",
     "output_type": "stream",
     "text": [
      "Collecting easygui\r\n",
      "  Downloading easygui-0.98.3-py2.py3-none-any.whl (92 kB)\r\n",
      "     |████████████████████████████████| 92 kB 394 kB/s             \r\n",
      "\u001B[?25hInstalling collected packages: easygui\r\n",
      "Successfully installed easygui-0.98.3\r\n",
      "\u001B[33mWARNING: You are using pip version 21.3.1; however, version 23.0.1 is available.\r\n",
      "You should consider upgrading via the '/Users/alperaydin/Library/CloudStorage/GoogleDrive-alperaydyn@gmail.com/My Drive/Projects/KAP_Notifications/venv/bin/python -m pip install --upgrade pip' command.\u001B[0m\r\n"
     ]
    }
   ],
   "source": [
    "# !pip install openai\n",
    "# !pip install pillow\n",
    "# !pip install rembg\n",
    "# !pip install easygui"
   ]
  },
  {
   "cell_type": "code",
   "execution_count": 28,
   "outputs": [],
   "source": [
    "import openai\n",
    "import sys\n",
    "sys.path.append('../../OpenAI/')\n",
    "from apky import API_KEY\n",
    "from PIL import Image\n",
    "import requests\n",
    "\n",
    "\n",
    "openai.api_key = API_KEY\n",
    "response = openai.Image.create(\n",
    "  prompt=\"bootstrap logo\",\n",
    "  n=1,\n",
    "  size=\"256x256\"\n",
    ")\n",
    "\n",
    "image_url = response['data'][0]['url']\n",
    "response = requests.get(image_url)\n",
    "with open(\"image.png\", \"wb\") as f:\n",
    "    f.write(response.content)\n",
    "img = Image.open(\"image.png\")\n",
    "img.show()"
   ],
   "metadata": {
    "collapsed": false
   }
  },
  {
   "cell_type": "markdown",
   "source": [
    "# Remove Background"
   ],
   "metadata": {
    "collapsed": false
   }
  },
  {
   "cell_type": "code",
   "execution_count": 48,
   "outputs": [],
   "source": [
    "from rembg import remove\n",
    "from PIL import Image\n",
    "import easygui as eg\n",
    "\n",
    "\"\"\"\n",
    "url = \"https://www.shutterstock.com/image-vector/letter-e-logo-icon-design-600w-208034314.jpg\"\n",
    "response = requests.get(url)\n",
    "with open(\"image.png\", \"wb\") as f:\n",
    "    f.write(response.content)\n",
    "\"\"\"\n",
    "input_path = \"../static/img/Screenshot 2023-03-01 at 00.29.51.png\" #eg.fileopenbox(title='Select image file')\n",
    "output_path = \"../static/img/image_rem.png\" #eg.filesavebox(title='Save file to..')\n",
    "input = Image.open(input_path)\n",
    "output = remove(input)\n",
    "output.save(output_path)\n",
    "\n",
    "img = Image.open(output_path)\n",
    "img.show()"
   ],
   "metadata": {
    "collapsed": false
   }
  }
 ],
 "metadata": {
  "kernelspec": {
   "display_name": "Python 3",
   "language": "python",
   "name": "python3"
  },
  "language_info": {
   "codemirror_mode": {
    "name": "ipython",
    "version": 2
   },
   "file_extension": ".py",
   "mimetype": "text/x-python",
   "name": "python",
   "nbconvert_exporter": "python",
   "pygments_lexer": "ipython2",
   "version": "2.7.6"
  }
 },
 "nbformat": 4,
 "nbformat_minor": 0
}
